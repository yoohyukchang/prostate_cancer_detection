{
 "cells": [
  {
   "cell_type": "code",
   "execution_count": 1,
   "id": "1234f8a2-b30a-450b-9128-87e743f419d7",
   "metadata": {},
   "outputs": [],
   "source": [
    "import numpy as np\n",
    "import nibabel as nib\n",
    "import os\n",
    "import glob\n",
    "import tensorflow as tf\n",
    "from tensorflow import keras\n",
    "from tensorflow.keras import layers, models\n",
    "from sklearn.model_selection import train_test_split\n",
    "from tensorflow.keras.utils import to_categorical\n",
    "import matplotlib.pyplot as plt\n",
    "from patchify import patchify"
   ]
  },
  {
   "cell_type": "code",
   "execution_count": 13,
   "id": "7e392011-ad5e-49f9-8d1c-96f280d7918f",
   "metadata": {},
   "outputs": [
    {
     "name": "stdout",
     "output_type": "stream",
     "text": [
      "/Users/yoohyuk/Desktop/2024Fall/Machine Learning/prostate_cancer_detection/data/prostate_cancer_data/Legions/legion0002.nii.gz\n",
      "/Users/yoohyuk/Desktop/2024Fall/Machine Learning/prostate_cancer_detection/data/prostate_cancer_data/Legions/legion0012.nii.gz\n",
      "/Users/yoohyuk/Desktop/2024Fall/Machine Learning/prostate_cancer_detection/data/prostate_cancer_data/Legions/legion0008.nii.gz\n",
      "/Users/yoohyuk/Desktop/2024Fall/Machine Learning/prostate_cancer_detection/data/prostate_cancer_data/Legions/legion0003.nii.gz\n",
      "/Users/yoohyuk/Desktop/2024Fall/Machine Learning/prostate_cancer_detection/data/prostate_cancer_data/Legions/legion0001.nii.gz\n",
      "/Users/yoohyuk/Desktop/2024Fall/Machine Learning/prostate_cancer_detection/data/prostate_cancer_data/Legions/legion0005.nii.gz\n"
     ]
    }
   ],
   "source": [
    "from pathlib import Path\n",
    "\n",
    "# Get the path to the current script\n",
    "current_path = Path.cwd()\n",
    "root_path = current_dir.parent\n",
    "data_path = root_path / 'data' / 'prostate_cancer_data'\n",
    "\n",
    "Legions_path = data_path / 'Legions'\n",
    "MRIs_path = data_path / 'MRIs'\n",
    "Prostates_path = data_path / 'Prostates'\n",
    "\n",
    "# put legion files in a list\n",
    "legion_files = list(Legions_path.glob('*.nii.gz'))\n",
    "\n",
    "# put image files (MRI) in a list\n",
    "image_files = list(MRIs_path.glob('*.nii.gz'))"
   ]
  },
  {
   "cell_type": "code",
   "execution_count": null,
   "id": "631c080e-e6c7-4b7f-ae8d-b9430c058e4f",
   "metadata": {},
   "outputs": [],
   "source": []
  }
 ],
 "metadata": {
  "kernelspec": {
   "display_name": "Python (env)",
   "language": "python",
   "name": "env"
  },
  "language_info": {
   "codemirror_mode": {
    "name": "ipython",
    "version": 3
   },
   "file_extension": ".py",
   "mimetype": "text/x-python",
   "name": "python",
   "nbconvert_exporter": "python",
   "pygments_lexer": "ipython3",
   "version": "3.10.14"
  }
 },
 "nbformat": 4,
 "nbformat_minor": 5
}
